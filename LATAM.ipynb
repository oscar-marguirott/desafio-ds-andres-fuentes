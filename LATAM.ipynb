{
 "cells": [
  {
   "cell_type": "markdown",
   "id": "b5520f6b",
   "metadata": {},
   "source": [
    "Importación de librerías base para el problema "
   ]
  },
  {
   "cell_type": "code",
   "execution_count": 2,
   "id": "fb38997e",
   "metadata": {
    "ExecuteTime": {
     "end_time": "2022-11-23T17:47:56.390168Z",
     "start_time": "2022-11-23T17:47:52.060957Z"
    },
    "hide_input": false
   },
   "outputs": [
    {
     "data": {
      "text/plain": [
       "'c:\\\\Users\\\\shado\\\\OneDrive\\\\Documentos\\\\NTT DATA\\\\LATAM'"
      ]
     },
     "execution_count": 2,
     "metadata": {},
     "output_type": "execute_result"
    }
   ],
   "source": [
    "import pandas as pd\n",
    "import datetime as dt\n",
    "import numpy as np\n",
    "import sklearn as sk\n",
    "from sklearn.model_selection import train_test_split\n",
    "import matplotlib.pyplot as plt\n",
    "import plotly.express as px\n",
    "import os\n",
    "\n",
    "os.getcwd()\n"
   ]
  },
  {
   "cell_type": "markdown",
   "id": "520a4d10",
   "metadata": {},
   "source": [
    "Lectura de datos principal y creacion de copia auxiliar de de la data original, también se busco información extra sobre países de los destinos de vuelos y los días feriados de ese año para el origen de los vuelos"
   ]
  },
  {
   "cell_type": "code",
   "execution_count": 3,
   "id": "fad9f459",
   "metadata": {
    "ExecuteTime": {
     "end_time": "2022-11-23T17:47:57.425739Z",
     "start_time": "2022-11-23T17:47:56.407681Z"
    },
    "scrolled": true
   },
   "outputs": [
    {
     "name": "stderr",
     "output_type": "stream",
     "text": [
      "C:\\Users\\shado\\AppData\\Local\\Temp\\ipykernel_7096\\200450372.py:1: DtypeWarning: Columns (1,6) have mixed types. Specify dtype option on import or set low_memory=False.\n",
      "  datos = pd.read_csv(\"dataset_SCL.csv\", sep=\",\")\n"
     ]
    },
    {
     "data": {
      "text/plain": [
       "Index(['Fecha-I', 'Vlo-I', 'Ori-I', 'Des-I', 'Emp-I', 'Fecha-O', 'Vlo-O',\n",
       "       'Ori-O', 'Des-O', 'Emp-O', 'DIA', 'MES', 'AÑO', 'DIANOM', 'TIPOVUELO',\n",
       "       'OPERA', 'SIGLAORI', 'SIGLADES'],\n",
       "      dtype='object')"
      ]
     },
     "execution_count": 3,
     "metadata": {},
     "output_type": "execute_result"
    }
   ],
   "source": [
    "datos = pd.read_csv(\"dataset_SCL.csv\", sep=\",\")\n",
    "datos_original = datos.copy()\n",
    "paises =  pd.read_excel(\"Prefijo Paises.xlsx\", sheet_name= 'Hoja2')\n",
    "feriados =  pd.read_excel(\"Feriados.xlsx\")\n",
    "datos.columns\n"
   ]
  },
  {
   "cell_type": "markdown",
   "id": "1eb22ff5",
   "metadata": {
    "ExecuteTime": {
     "end_time": "2022-11-03T14:18:18.565963Z",
     "start_time": "2022-11-03T14:18:18.550955Z"
    }
   },
   "source": [
    "verificación de los tipos de datos de este dataframe"
   ]
  },
  {
   "cell_type": "code",
   "execution_count": 4,
   "id": "4ca63935",
   "metadata": {
    "ExecuteTime": {
     "end_time": "2022-11-23T17:47:57.440730Z",
     "start_time": "2022-11-23T17:47:57.428736Z"
    },
    "scrolled": true
   },
   "outputs": [
    {
     "data": {
      "text/plain": [
       "Fecha-I      object\n",
       "Vlo-I        object\n",
       "Ori-I        object\n",
       "Des-I        object\n",
       "Emp-I        object\n",
       "Fecha-O      object\n",
       "Vlo-O        object\n",
       "Ori-O        object\n",
       "Des-O        object\n",
       "Emp-O        object\n",
       "DIA           int64\n",
       "MES           int64\n",
       "AÑO           int64\n",
       "DIANOM       object\n",
       "TIPOVUELO    object\n",
       "OPERA        object\n",
       "SIGLAORI     object\n",
       "SIGLADES     object\n",
       "dtype: object"
      ]
     },
     "execution_count": 4,
     "metadata": {},
     "output_type": "execute_result"
    }
   ],
   "source": [
    "datos.dtypes"
   ]
  },
  {
   "cell_type": "markdown",
   "id": "39aee013",
   "metadata": {},
   "source": [
    "transformanción de Fechas a formato tiempo"
   ]
  },
  {
   "cell_type": "code",
   "execution_count": 5,
   "id": "04197230",
   "metadata": {
    "ExecuteTime": {
     "end_time": "2022-11-23T17:47:57.552673Z",
     "start_time": "2022-11-23T17:47:57.442729Z"
    }
   },
   "outputs": [
    {
     "data": {
      "text/plain": [
       "Fecha-I      datetime64[ns]\n",
       "Vlo-I                object\n",
       "Ori-I                object\n",
       "Des-I                object\n",
       "Emp-I                object\n",
       "Fecha-O      datetime64[ns]\n",
       "Vlo-O                object\n",
       "Ori-O                object\n",
       "Des-O                object\n",
       "Emp-O                object\n",
       "DIA                   int64\n",
       "MES                   int64\n",
       "AÑO                   int64\n",
       "DIANOM               object\n",
       "TIPOVUELO            object\n",
       "OPERA                object\n",
       "SIGLAORI             object\n",
       "SIGLADES             object\n",
       "dtype: object"
      ]
     },
     "execution_count": 5,
     "metadata": {},
     "output_type": "execute_result"
    }
   ],
   "source": [
    "datos[\"Fecha-I\"] = pd.to_datetime(datos[\"Fecha-I\"])\n",
    "datos[\"Fecha-O\"] = pd.to_datetime(datos[\"Fecha-O\"])\n",
    "datos.dtypes"
   ]
  },
  {
   "cell_type": "markdown",
   "id": "3b969c97",
   "metadata": {},
   "source": [
    "creación de variables dif_min, hora_dia, hora, minutos"
   ]
  },
  {
   "cell_type": "code",
   "execution_count": 6,
   "id": "c71136e1",
   "metadata": {
    "ExecuteTime": {
     "end_time": "2022-11-23T17:47:57.680700Z",
     "start_time": "2022-11-23T17:47:57.553674Z"
    }
   },
   "outputs": [
    {
     "data": {
      "text/html": [
       "<div>\n",
       "<style scoped>\n",
       "    .dataframe tbody tr th:only-of-type {\n",
       "        vertical-align: middle;\n",
       "    }\n",
       "\n",
       "    .dataframe tbody tr th {\n",
       "        vertical-align: top;\n",
       "    }\n",
       "\n",
       "    .dataframe thead th {\n",
       "        text-align: right;\n",
       "    }\n",
       "</style>\n",
       "<table border=\"1\" class=\"dataframe\">\n",
       "  <thead>\n",
       "    <tr style=\"text-align: right;\">\n",
       "      <th></th>\n",
       "      <th>Fecha-I</th>\n",
       "      <th>Vlo-I</th>\n",
       "      <th>Ori-I</th>\n",
       "      <th>Des-I</th>\n",
       "      <th>Emp-I</th>\n",
       "      <th>Fecha-O</th>\n",
       "      <th>Vlo-O</th>\n",
       "      <th>Ori-O</th>\n",
       "      <th>Des-O</th>\n",
       "      <th>Emp-O</th>\n",
       "      <th>...</th>\n",
       "      <th>AÑO</th>\n",
       "      <th>DIANOM</th>\n",
       "      <th>TIPOVUELO</th>\n",
       "      <th>OPERA</th>\n",
       "      <th>SIGLAORI</th>\n",
       "      <th>SIGLADES</th>\n",
       "      <th>dif_min</th>\n",
       "      <th>hora_dia</th>\n",
       "      <th>hora</th>\n",
       "      <th>minutos</th>\n",
       "    </tr>\n",
       "  </thead>\n",
       "  <tbody>\n",
       "    <tr>\n",
       "      <th>0</th>\n",
       "      <td>2017-01-01 23:30:00</td>\n",
       "      <td>226</td>\n",
       "      <td>SCEL</td>\n",
       "      <td>KMIA</td>\n",
       "      <td>AAL</td>\n",
       "      <td>2017-01-01 23:33:00</td>\n",
       "      <td>226</td>\n",
       "      <td>SCEL</td>\n",
       "      <td>KMIA</td>\n",
       "      <td>AAL</td>\n",
       "      <td>...</td>\n",
       "      <td>2017</td>\n",
       "      <td>Domingo</td>\n",
       "      <td>I</td>\n",
       "      <td>American Airlines</td>\n",
       "      <td>Santiago</td>\n",
       "      <td>Miami</td>\n",
       "      <td>0 days 00:03:00</td>\n",
       "      <td>23:30:00</td>\n",
       "      <td>23</td>\n",
       "      <td>30</td>\n",
       "    </tr>\n",
       "    <tr>\n",
       "      <th>1</th>\n",
       "      <td>2017-01-02 23:30:00</td>\n",
       "      <td>226</td>\n",
       "      <td>SCEL</td>\n",
       "      <td>KMIA</td>\n",
       "      <td>AAL</td>\n",
       "      <td>2017-01-02 23:39:00</td>\n",
       "      <td>226</td>\n",
       "      <td>SCEL</td>\n",
       "      <td>KMIA</td>\n",
       "      <td>AAL</td>\n",
       "      <td>...</td>\n",
       "      <td>2017</td>\n",
       "      <td>Lunes</td>\n",
       "      <td>I</td>\n",
       "      <td>American Airlines</td>\n",
       "      <td>Santiago</td>\n",
       "      <td>Miami</td>\n",
       "      <td>0 days 00:09:00</td>\n",
       "      <td>23:30:00</td>\n",
       "      <td>23</td>\n",
       "      <td>30</td>\n",
       "    </tr>\n",
       "    <tr>\n",
       "      <th>2</th>\n",
       "      <td>2017-01-03 23:30:00</td>\n",
       "      <td>226</td>\n",
       "      <td>SCEL</td>\n",
       "      <td>KMIA</td>\n",
       "      <td>AAL</td>\n",
       "      <td>2017-01-03 23:39:00</td>\n",
       "      <td>226</td>\n",
       "      <td>SCEL</td>\n",
       "      <td>KMIA</td>\n",
       "      <td>AAL</td>\n",
       "      <td>...</td>\n",
       "      <td>2017</td>\n",
       "      <td>Martes</td>\n",
       "      <td>I</td>\n",
       "      <td>American Airlines</td>\n",
       "      <td>Santiago</td>\n",
       "      <td>Miami</td>\n",
       "      <td>0 days 00:09:00</td>\n",
       "      <td>23:30:00</td>\n",
       "      <td>23</td>\n",
       "      <td>30</td>\n",
       "    </tr>\n",
       "    <tr>\n",
       "      <th>3</th>\n",
       "      <td>2017-01-04 23:30:00</td>\n",
       "      <td>226</td>\n",
       "      <td>SCEL</td>\n",
       "      <td>KMIA</td>\n",
       "      <td>AAL</td>\n",
       "      <td>2017-01-04 23:33:00</td>\n",
       "      <td>226</td>\n",
       "      <td>SCEL</td>\n",
       "      <td>KMIA</td>\n",
       "      <td>AAL</td>\n",
       "      <td>...</td>\n",
       "      <td>2017</td>\n",
       "      <td>Miercoles</td>\n",
       "      <td>I</td>\n",
       "      <td>American Airlines</td>\n",
       "      <td>Santiago</td>\n",
       "      <td>Miami</td>\n",
       "      <td>0 days 00:03:00</td>\n",
       "      <td>23:30:00</td>\n",
       "      <td>23</td>\n",
       "      <td>30</td>\n",
       "    </tr>\n",
       "    <tr>\n",
       "      <th>4</th>\n",
       "      <td>2017-01-05 23:30:00</td>\n",
       "      <td>226</td>\n",
       "      <td>SCEL</td>\n",
       "      <td>KMIA</td>\n",
       "      <td>AAL</td>\n",
       "      <td>2017-01-05 23:28:00</td>\n",
       "      <td>226</td>\n",
       "      <td>SCEL</td>\n",
       "      <td>KMIA</td>\n",
       "      <td>AAL</td>\n",
       "      <td>...</td>\n",
       "      <td>2017</td>\n",
       "      <td>Jueves</td>\n",
       "      <td>I</td>\n",
       "      <td>American Airlines</td>\n",
       "      <td>Santiago</td>\n",
       "      <td>Miami</td>\n",
       "      <td>-1 days +23:58:00</td>\n",
       "      <td>23:30:00</td>\n",
       "      <td>23</td>\n",
       "      <td>30</td>\n",
       "    </tr>\n",
       "  </tbody>\n",
       "</table>\n",
       "<p>5 rows × 22 columns</p>\n",
       "</div>"
      ],
      "text/plain": [
       "              Fecha-I Vlo-I Ori-I Des-I Emp-I             Fecha-O Vlo-O Ori-O  \\\n",
       "0 2017-01-01 23:30:00   226  SCEL  KMIA   AAL 2017-01-01 23:33:00   226  SCEL   \n",
       "1 2017-01-02 23:30:00   226  SCEL  KMIA   AAL 2017-01-02 23:39:00   226  SCEL   \n",
       "2 2017-01-03 23:30:00   226  SCEL  KMIA   AAL 2017-01-03 23:39:00   226  SCEL   \n",
       "3 2017-01-04 23:30:00   226  SCEL  KMIA   AAL 2017-01-04 23:33:00   226  SCEL   \n",
       "4 2017-01-05 23:30:00   226  SCEL  KMIA   AAL 2017-01-05 23:28:00   226  SCEL   \n",
       "\n",
       "  Des-O Emp-O  ...   AÑO     DIANOM  TIPOVUELO              OPERA  SIGLAORI  \\\n",
       "0  KMIA   AAL  ...  2017    Domingo          I  American Airlines  Santiago   \n",
       "1  KMIA   AAL  ...  2017      Lunes          I  American Airlines  Santiago   \n",
       "2  KMIA   AAL  ...  2017     Martes          I  American Airlines  Santiago   \n",
       "3  KMIA   AAL  ...  2017  Miercoles          I  American Airlines  Santiago   \n",
       "4  KMIA   AAL  ...  2017     Jueves          I  American Airlines  Santiago   \n",
       "\n",
       "  SIGLADES           dif_min  hora_dia hora minutos  \n",
       "0    Miami   0 days 00:03:00  23:30:00   23      30  \n",
       "1    Miami   0 days 00:09:00  23:30:00   23      30  \n",
       "2    Miami   0 days 00:09:00  23:30:00   23      30  \n",
       "3    Miami   0 days 00:03:00  23:30:00   23      30  \n",
       "4    Miami -1 days +23:58:00  23:30:00   23      30  \n",
       "\n",
       "[5 rows x 22 columns]"
      ]
     },
     "execution_count": 6,
     "metadata": {},
     "output_type": "execute_result"
    }
   ],
   "source": [
    "datos['dif_min'] = (datos[\"Fecha-O\"]- datos[\"Fecha-I\"])\n",
    "datos['hora_dia'] = datos['Fecha-I'].dt.time\n",
    "datos['hora'] = datos['Fecha-I'].dt.hour\n",
    "datos['minutos'] = datos['Fecha-I'].dt.minute\n",
    "\n",
    "datos.head()"
   ]
  },
  {
   "cell_type": "markdown",
   "id": "6917a8ae",
   "metadata": {},
   "source": [
    "cambia la diferencia de las fechas de programación y salida de los vuelos a minutos."
   ]
  },
  {
   "cell_type": "code",
   "execution_count": 7,
   "id": "cb715d23",
   "metadata": {
    "ExecuteTime": {
     "end_time": "2022-11-23T17:47:57.696692Z",
     "start_time": "2022-11-23T17:47:57.682702Z"
    }
   },
   "outputs": [],
   "source": [
    "datos[\"dif_min\"] =  datos[\"dif_min\"]/np.timedelta64(1,'m')"
   ]
  },
  {
   "cell_type": "markdown",
   "id": "2bae4d93",
   "metadata": {},
   "source": [
    "Homologación de variable Mes a nombre"
   ]
  },
  {
   "cell_type": "code",
   "execution_count": 8,
   "id": "078fddce",
   "metadata": {
    "ExecuteTime": {
     "end_time": "2022-11-23T17:47:57.728673Z",
     "start_time": "2022-11-23T17:47:57.698691Z"
    }
   },
   "outputs": [
    {
     "data": {
      "text/html": [
       "<div>\n",
       "<style scoped>\n",
       "    .dataframe tbody tr th:only-of-type {\n",
       "        vertical-align: middle;\n",
       "    }\n",
       "\n",
       "    .dataframe tbody tr th {\n",
       "        vertical-align: top;\n",
       "    }\n",
       "\n",
       "    .dataframe thead th {\n",
       "        text-align: right;\n",
       "    }\n",
       "</style>\n",
       "<table border=\"1\" class=\"dataframe\">\n",
       "  <thead>\n",
       "    <tr style=\"text-align: right;\">\n",
       "      <th></th>\n",
       "      <th>Fecha-I</th>\n",
       "      <th>Vlo-I</th>\n",
       "      <th>Ori-I</th>\n",
       "      <th>Des-I</th>\n",
       "      <th>Emp-I</th>\n",
       "      <th>Fecha-O</th>\n",
       "      <th>Vlo-O</th>\n",
       "      <th>Ori-O</th>\n",
       "      <th>Des-O</th>\n",
       "      <th>Emp-O</th>\n",
       "      <th>...</th>\n",
       "      <th>DIANOM</th>\n",
       "      <th>TIPOVUELO</th>\n",
       "      <th>OPERA</th>\n",
       "      <th>SIGLAORI</th>\n",
       "      <th>SIGLADES</th>\n",
       "      <th>dif_min</th>\n",
       "      <th>hora_dia</th>\n",
       "      <th>hora</th>\n",
       "      <th>minutos</th>\n",
       "      <th>Mes_Nombre</th>\n",
       "    </tr>\n",
       "  </thead>\n",
       "  <tbody>\n",
       "    <tr>\n",
       "      <th>0</th>\n",
       "      <td>2017-01-01 23:30:00</td>\n",
       "      <td>226</td>\n",
       "      <td>SCEL</td>\n",
       "      <td>KMIA</td>\n",
       "      <td>AAL</td>\n",
       "      <td>2017-01-01 23:33:00</td>\n",
       "      <td>226</td>\n",
       "      <td>SCEL</td>\n",
       "      <td>KMIA</td>\n",
       "      <td>AAL</td>\n",
       "      <td>...</td>\n",
       "      <td>Domingo</td>\n",
       "      <td>I</td>\n",
       "      <td>American Airlines</td>\n",
       "      <td>Santiago</td>\n",
       "      <td>Miami</td>\n",
       "      <td>3.0</td>\n",
       "      <td>23:30:00</td>\n",
       "      <td>23</td>\n",
       "      <td>30</td>\n",
       "      <td>Enero</td>\n",
       "    </tr>\n",
       "    <tr>\n",
       "      <th>1</th>\n",
       "      <td>2017-01-02 23:30:00</td>\n",
       "      <td>226</td>\n",
       "      <td>SCEL</td>\n",
       "      <td>KMIA</td>\n",
       "      <td>AAL</td>\n",
       "      <td>2017-01-02 23:39:00</td>\n",
       "      <td>226</td>\n",
       "      <td>SCEL</td>\n",
       "      <td>KMIA</td>\n",
       "      <td>AAL</td>\n",
       "      <td>...</td>\n",
       "      <td>Lunes</td>\n",
       "      <td>I</td>\n",
       "      <td>American Airlines</td>\n",
       "      <td>Santiago</td>\n",
       "      <td>Miami</td>\n",
       "      <td>9.0</td>\n",
       "      <td>23:30:00</td>\n",
       "      <td>23</td>\n",
       "      <td>30</td>\n",
       "      <td>Enero</td>\n",
       "    </tr>\n",
       "    <tr>\n",
       "      <th>2</th>\n",
       "      <td>2017-01-03 23:30:00</td>\n",
       "      <td>226</td>\n",
       "      <td>SCEL</td>\n",
       "      <td>KMIA</td>\n",
       "      <td>AAL</td>\n",
       "      <td>2017-01-03 23:39:00</td>\n",
       "      <td>226</td>\n",
       "      <td>SCEL</td>\n",
       "      <td>KMIA</td>\n",
       "      <td>AAL</td>\n",
       "      <td>...</td>\n",
       "      <td>Martes</td>\n",
       "      <td>I</td>\n",
       "      <td>American Airlines</td>\n",
       "      <td>Santiago</td>\n",
       "      <td>Miami</td>\n",
       "      <td>9.0</td>\n",
       "      <td>23:30:00</td>\n",
       "      <td>23</td>\n",
       "      <td>30</td>\n",
       "      <td>Enero</td>\n",
       "    </tr>\n",
       "    <tr>\n",
       "      <th>3</th>\n",
       "      <td>2017-01-04 23:30:00</td>\n",
       "      <td>226</td>\n",
       "      <td>SCEL</td>\n",
       "      <td>KMIA</td>\n",
       "      <td>AAL</td>\n",
       "      <td>2017-01-04 23:33:00</td>\n",
       "      <td>226</td>\n",
       "      <td>SCEL</td>\n",
       "      <td>KMIA</td>\n",
       "      <td>AAL</td>\n",
       "      <td>...</td>\n",
       "      <td>Miercoles</td>\n",
       "      <td>I</td>\n",
       "      <td>American Airlines</td>\n",
       "      <td>Santiago</td>\n",
       "      <td>Miami</td>\n",
       "      <td>3.0</td>\n",
       "      <td>23:30:00</td>\n",
       "      <td>23</td>\n",
       "      <td>30</td>\n",
       "      <td>Enero</td>\n",
       "    </tr>\n",
       "    <tr>\n",
       "      <th>4</th>\n",
       "      <td>2017-01-05 23:30:00</td>\n",
       "      <td>226</td>\n",
       "      <td>SCEL</td>\n",
       "      <td>KMIA</td>\n",
       "      <td>AAL</td>\n",
       "      <td>2017-01-05 23:28:00</td>\n",
       "      <td>226</td>\n",
       "      <td>SCEL</td>\n",
       "      <td>KMIA</td>\n",
       "      <td>AAL</td>\n",
       "      <td>...</td>\n",
       "      <td>Jueves</td>\n",
       "      <td>I</td>\n",
       "      <td>American Airlines</td>\n",
       "      <td>Santiago</td>\n",
       "      <td>Miami</td>\n",
       "      <td>-2.0</td>\n",
       "      <td>23:30:00</td>\n",
       "      <td>23</td>\n",
       "      <td>30</td>\n",
       "      <td>Enero</td>\n",
       "    </tr>\n",
       "  </tbody>\n",
       "</table>\n",
       "<p>5 rows × 23 columns</p>\n",
       "</div>"
      ],
      "text/plain": [
       "              Fecha-I Vlo-I Ori-I Des-I Emp-I             Fecha-O Vlo-O Ori-O  \\\n",
       "0 2017-01-01 23:30:00   226  SCEL  KMIA   AAL 2017-01-01 23:33:00   226  SCEL   \n",
       "1 2017-01-02 23:30:00   226  SCEL  KMIA   AAL 2017-01-02 23:39:00   226  SCEL   \n",
       "2 2017-01-03 23:30:00   226  SCEL  KMIA   AAL 2017-01-03 23:39:00   226  SCEL   \n",
       "3 2017-01-04 23:30:00   226  SCEL  KMIA   AAL 2017-01-04 23:33:00   226  SCEL   \n",
       "4 2017-01-05 23:30:00   226  SCEL  KMIA   AAL 2017-01-05 23:28:00   226  SCEL   \n",
       "\n",
       "  Des-O Emp-O  ...     DIANOM  TIPOVUELO              OPERA  SIGLAORI  \\\n",
       "0  KMIA   AAL  ...    Domingo          I  American Airlines  Santiago   \n",
       "1  KMIA   AAL  ...      Lunes          I  American Airlines  Santiago   \n",
       "2  KMIA   AAL  ...     Martes          I  American Airlines  Santiago   \n",
       "3  KMIA   AAL  ...  Miercoles          I  American Airlines  Santiago   \n",
       "4  KMIA   AAL  ...     Jueves          I  American Airlines  Santiago   \n",
       "\n",
       "  SIGLADES dif_min  hora_dia hora  minutos Mes_Nombre  \n",
       "0    Miami     3.0  23:30:00   23       30      Enero  \n",
       "1    Miami     9.0  23:30:00   23       30      Enero  \n",
       "2    Miami     9.0  23:30:00   23       30      Enero  \n",
       "3    Miami     3.0  23:30:00   23       30      Enero  \n",
       "4    Miami    -2.0  23:30:00   23       30      Enero  \n",
       "\n",
       "[5 rows x 23 columns]"
      ]
     },
     "execution_count": 8,
     "metadata": {},
     "output_type": "execute_result"
    }
   ],
   "source": [
    "conditions = [\n",
    "    (datos['MES'] == 1),\n",
    "    (datos['MES'] == 2),\n",
    "    (datos['MES'] == 3),\n",
    "    (datos['MES'] == 4),\n",
    "    (datos['MES'] == 5),\n",
    "    (datos['MES'] == 6),\n",
    "    (datos['MES'] == 7),\n",
    "    (datos['MES'] == 8),\n",
    "    (datos['MES'] == 9),\n",
    "    (datos['MES'] == 10),\n",
    "    (datos['MES'] == 11),\n",
    "    (datos['MES'] == 12)]\n",
    "values = [\n",
    "    'Enero',\n",
    "    'Febrero',\n",
    "    'Marzo',\n",
    "    'Abril',\n",
    "    'Mayo',\n",
    "    'Junio',\n",
    "    'Julio',\n",
    "    'Agosto',\n",
    "    'Septiembre',\n",
    "    'Octubre',\n",
    "    'Noviembre',\n",
    "    'Diciembre']\n",
    "datos['Mes_Nombre'] = np.select(conditions, values)\n",
    "datos.head()"
   ]
  },
  {
   "cell_type": "markdown",
   "id": "e306be35",
   "metadata": {},
   "source": [
    "Verificacion que el valores este correcto"
   ]
  },
  {
   "cell_type": "code",
   "execution_count": 9,
   "id": "4018aa0a",
   "metadata": {
    "ExecuteTime": {
     "end_time": "2022-11-23T17:47:57.759655Z",
     "start_time": "2022-11-23T17:47:57.730672Z"
    }
   },
   "outputs": [
    {
     "data": {
      "text/html": [
       "<div>\n",
       "<style scoped>\n",
       "    .dataframe tbody tr th:only-of-type {\n",
       "        vertical-align: middle;\n",
       "    }\n",
       "\n",
       "    .dataframe tbody tr th {\n",
       "        vertical-align: top;\n",
       "    }\n",
       "\n",
       "    .dataframe thead th {\n",
       "        text-align: right;\n",
       "    }\n",
       "</style>\n",
       "<table border=\"1\" class=\"dataframe\">\n",
       "  <thead>\n",
       "    <tr style=\"text-align: right;\">\n",
       "      <th></th>\n",
       "      <th>dif_min</th>\n",
       "      <th>Fecha-O</th>\n",
       "      <th>Fecha-I</th>\n",
       "    </tr>\n",
       "  </thead>\n",
       "  <tbody>\n",
       "    <tr>\n",
       "      <th>0</th>\n",
       "      <td>3.0</td>\n",
       "      <td>2017-01-01 23:33:00</td>\n",
       "      <td>2017-01-01 23:30:00</td>\n",
       "    </tr>\n",
       "    <tr>\n",
       "      <th>1</th>\n",
       "      <td>9.0</td>\n",
       "      <td>2017-01-02 23:39:00</td>\n",
       "      <td>2017-01-02 23:30:00</td>\n",
       "    </tr>\n",
       "    <tr>\n",
       "      <th>2</th>\n",
       "      <td>9.0</td>\n",
       "      <td>2017-01-03 23:39:00</td>\n",
       "      <td>2017-01-03 23:30:00</td>\n",
       "    </tr>\n",
       "    <tr>\n",
       "      <th>3</th>\n",
       "      <td>3.0</td>\n",
       "      <td>2017-01-04 23:33:00</td>\n",
       "      <td>2017-01-04 23:30:00</td>\n",
       "    </tr>\n",
       "    <tr>\n",
       "      <th>4</th>\n",
       "      <td>-2.0</td>\n",
       "      <td>2017-01-05 23:28:00</td>\n",
       "      <td>2017-01-05 23:30:00</td>\n",
       "    </tr>\n",
       "    <tr>\n",
       "      <th>...</th>\n",
       "      <td>...</td>\n",
       "      <td>...</td>\n",
       "      <td>...</td>\n",
       "    </tr>\n",
       "    <tr>\n",
       "      <th>68201</th>\n",
       "      <td>46.0</td>\n",
       "      <td>2017-12-22 15:41:00</td>\n",
       "      <td>2017-12-22 14:55:00</td>\n",
       "    </tr>\n",
       "    <tr>\n",
       "      <th>68202</th>\n",
       "      <td>16.0</td>\n",
       "      <td>2017-12-25 15:11:00</td>\n",
       "      <td>2017-12-25 14:55:00</td>\n",
       "    </tr>\n",
       "    <tr>\n",
       "      <th>68203</th>\n",
       "      <td>40.0</td>\n",
       "      <td>2017-12-27 15:35:00</td>\n",
       "      <td>2017-12-27 14:55:00</td>\n",
       "    </tr>\n",
       "    <tr>\n",
       "      <th>68204</th>\n",
       "      <td>13.0</td>\n",
       "      <td>2017-12-29 15:08:00</td>\n",
       "      <td>2017-12-29 14:55:00</td>\n",
       "    </tr>\n",
       "    <tr>\n",
       "      <th>68205</th>\n",
       "      <td>9.0</td>\n",
       "      <td>2017-12-31 15:04:00</td>\n",
       "      <td>2017-12-31 14:55:00</td>\n",
       "    </tr>\n",
       "  </tbody>\n",
       "</table>\n",
       "<p>68206 rows × 3 columns</p>\n",
       "</div>"
      ],
      "text/plain": [
       "       dif_min             Fecha-O             Fecha-I\n",
       "0          3.0 2017-01-01 23:33:00 2017-01-01 23:30:00\n",
       "1          9.0 2017-01-02 23:39:00 2017-01-02 23:30:00\n",
       "2          9.0 2017-01-03 23:39:00 2017-01-03 23:30:00\n",
       "3          3.0 2017-01-04 23:33:00 2017-01-04 23:30:00\n",
       "4         -2.0 2017-01-05 23:28:00 2017-01-05 23:30:00\n",
       "...        ...                 ...                 ...\n",
       "68201     46.0 2017-12-22 15:41:00 2017-12-22 14:55:00\n",
       "68202     16.0 2017-12-25 15:11:00 2017-12-25 14:55:00\n",
       "68203     40.0 2017-12-27 15:35:00 2017-12-27 14:55:00\n",
       "68204     13.0 2017-12-29 15:08:00 2017-12-29 14:55:00\n",
       "68205      9.0 2017-12-31 15:04:00 2017-12-31 14:55:00\n",
       "\n",
       "[68206 rows x 3 columns]"
      ]
     },
     "execution_count": 9,
     "metadata": {},
     "output_type": "execute_result"
    }
   ],
   "source": [
    "datos[[\"dif_min\",\"Fecha-O\",\"Fecha-I\"]]"
   ]
  },
  {
   "cell_type": "markdown",
   "id": "61f90c9e",
   "metadata": {},
   "source": [
    "Creacion de variable temporada_alta y atraso_15\n"
   ]
  },
  {
   "cell_type": "code",
   "execution_count": 10,
   "id": "52dfaac8",
   "metadata": {
    "ExecuteTime": {
     "end_time": "2022-11-23T17:47:57.775647Z",
     "start_time": "2022-11-23T17:47:57.762655Z"
    }
   },
   "outputs": [],
   "source": [
    "datos['temporada_alta'] = np.where(  ((datos['Fecha-I']>='2017-12-15') & (datos['Fecha-I']<='2018-03-03')) \n",
    "                                   | ((datos['Fecha-I']>='2017-07-15') & (datos['Fecha-I']<='2017-07-31'))\n",
    "                                   | ((datos['Fecha-I']>='2017-01-01') & (datos['Fecha-I']<='2017-03-03'))\n",
    "                                   | ((datos['Fecha-I']>='2017-09-11') & (datos['Fecha-I']<='2017-09-30'))\n",
    "                                   ,1,0)\n",
    "datos['atraso_15'] = np.where(datos['dif_min']>15,1,0)\n",
    "\n",
    "\n"
   ]
  },
  {
   "cell_type": "markdown",
   "id": "b18a948c",
   "metadata": {
    "ExecuteTime": {
     "end_time": "2022-11-03T14:19:57.819694Z",
     "start_time": "2022-11-03T14:19:57.814693Z"
    }
   },
   "source": [
    "creacion de variable periodo_dia"
   ]
  },
  {
   "cell_type": "code",
   "execution_count": 11,
   "id": "05342618",
   "metadata": {
    "ExecuteTime": {
     "end_time": "2022-11-23T17:47:57.806629Z",
     "start_time": "2022-11-23T17:47:57.777647Z"
    }
   },
   "outputs": [],
   "source": [
    "conditions = [\n",
    "    (datos['hora'] >= 5) & (datos['hora'] < 12),\n",
    "    (datos['hora'] >= 12) & (datos['hora'] < 19),\n",
    "    (datos['hora'] >= 19) | ((datos['hora'] >= 0) & (datos['hora'] < 5))]\n",
    "values = ['mañana', 'tarde', 'noche']\n",
    "datos['periodo_dia'] = np.select(conditions, values)\n"
   ]
  },
  {
   "cell_type": "markdown",
   "id": "f8fa0a8e",
   "metadata": {},
   "source": [
    "exportacion de archivo csv con las variables creadas desde el dataframe"
   ]
  },
  {
   "cell_type": "code",
   "execution_count": 12,
   "id": "d0ad9d32",
   "metadata": {
    "ExecuteTime": {
     "end_time": "2022-11-23T17:47:57.964046Z",
     "start_time": "2022-11-23T17:47:57.808628Z"
    }
   },
   "outputs": [],
   "source": [
    "synthetic_features = datos[['temporada_alta','dif_min','atraso_15','periodo_dia']]\n",
    "\n",
    "synthetic_features.to_csv(\"synthetic_features.csv\", sep=\"|\"\n",
    "                          , header=True, index=False)"
   ]
  }
 ],
 "metadata": {
  "hide_input": false,
  "kernelspec": {
   "display_name": "Python 3.9.12 ('base')",
   "language": "python",
   "name": "python3"
  },
  "language_info": {
   "codemirror_mode": {
    "name": "ipython",
    "version": 3
   },
   "file_extension": ".py",
   "mimetype": "text/x-python",
   "name": "python",
   "nbconvert_exporter": "python",
   "pygments_lexer": "ipython3",
   "version": "3.9.12"
  },
  "toc": {
   "base_numbering": 1,
   "nav_menu": {},
   "number_sections": true,
   "sideBar": true,
   "skip_h1_title": false,
   "title_cell": "Table of Contents",
   "title_sidebar": "Contents",
   "toc_cell": false,
   "toc_position": {},
   "toc_section_display": true,
   "toc_window_display": false
  },
  "vscode": {
   "interpreter": {
    "hash": "cc76675e192ef18b6983e17795f5033d0dffe1a6388d7e5181d644cbc9b8fa63"
   }
  }
 },
 "nbformat": 4,
 "nbformat_minor": 5
}
